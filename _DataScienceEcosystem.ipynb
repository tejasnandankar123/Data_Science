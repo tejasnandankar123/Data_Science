{
 "cells": [
  {
   "cell_type": "markdown",
   "id": "d42f2ddf",
   "metadata": {},
   "source": [
    "# Data Science Tools and Ecosystem"
   ]
  },
  {
   "cell_type": "markdown",
   "id": "43dba357",
   "metadata": {},
   "source": [
    "In this notebook, Data Science Tools and Ecosystem are summarized."
   ]
  },
  {
   "cell_type": "markdown",
   "id": "4f71ce97",
   "metadata": {},
   "source": [
    "#### Some of the popular languages that Data Scientists use are:\n",
    "1. Python \n",
    "2. R\n",
    "3. SQL"
   ]
  },
  {
   "cell_type": "markdown",
   "id": "85cdec40",
   "metadata": {},
   "source": [
    "#### Some of the commonly used libraries used by Data Scientists include:\n",
    "1. Pandas \n",
    "2. Numpy\n",
    "3. Matplotlib"
   ]
  },
  {
   "cell_type": "markdown",
   "id": "35bbd010",
   "metadata": {},
   "source": [
    "| Data Science Tools |\n",
    "| --------------|\n",
    "| Pandas |\n",
    "| Numpy |\n",
    "| Matplotlib |"
   ]
  },
  {
   "cell_type": "markdown",
   "id": "01a73102",
   "metadata": {},
   "source": [
    "#### Below are a few examples of evaluating arithmetic expressions in Python"
   ]
  },
  {
   "cell_type": "code",
   "execution_count": 4,
   "id": "7a664a21",
   "metadata": {},
   "outputs": [
    {
     "data": {
      "text/plain": [
       "17"
      ]
     },
     "execution_count": 4,
     "metadata": {},
     "output_type": "execute_result"
    }
   ],
   "source": [
    "# This a simple arithmetic expression to mutiply then add integers\n",
    "(3*4)+5    "
   ]
  },
  {
   "cell_type": "code",
   "execution_count": 5,
   "id": "c2c642a5",
   "metadata": {},
   "outputs": [
    {
     "name": "stdout",
     "output_type": "stream",
     "text": [
      "3.3333333333333335\n"
     ]
    }
   ],
   "source": [
    "# This will convert 200 minutes to hours by diving by 60\n",
    "t = 200\n",
    "time_in_hours = t/60\n",
    "print(time_in_hours)"
   ]
  },
  {
   "cell_type": "markdown",
   "id": "a075367b",
   "metadata": {},
   "source": [
    "#### Objectives:"
   ]
  },
  {
   "cell_type": "markdown",
   "id": "81a58810",
   "metadata": {},
   "source": [
    "List of popular languages for data science :\n",
    "1. Python\n",
    "2. SQL\n",
    "3. R\n",
    "\n",
    "List of tools for visualization :\n",
    "1. Microsoft PowerBI\n",
    "2. Tablaue\n"
   ]
  },
  {
   "cell_type": "markdown",
   "id": "d3398324",
   "metadata": {},
   "source": [
    "## Author \n",
    "Tejas K. Nandankar"
   ]
  },
  {
   "cell_type": "code",
   "execution_count": null,
   "id": "a3d8d06e",
   "metadata": {},
   "outputs": [],
   "source": []
  }
 ],
 "metadata": {
  "kernelspec": {
   "display_name": "Python 3 (ipykernel)",
   "language": "python",
   "name": "python3"
  },
  "language_info": {
   "codemirror_mode": {
    "name": "ipython",
    "version": 3
   },
   "file_extension": ".py",
   "mimetype": "text/x-python",
   "name": "python",
   "nbconvert_exporter": "python",
   "pygments_lexer": "ipython3",
   "version": "3.9.12"
  }
 },
 "nbformat": 4,
 "nbformat_minor": 5
}
